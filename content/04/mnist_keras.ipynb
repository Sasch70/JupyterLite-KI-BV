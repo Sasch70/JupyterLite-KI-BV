{
 "cells": [
  {
   "cell_type": "code",
   "execution_count": 1,
   "metadata": {
    "collapsed": true
   },
   "outputs": [],
   "source": [
    "from tensorflow.keras.datasets import mnist\n",
    "from tensorflow.keras.models import Sequential\n",
    "from tensorflow.keras.layers import Dense\n",
    "import matplotlib.pyplot as plt\n",
    "import numpy as np"
   ]
  },
  {
   "cell_type": "markdown",
   "metadata": {},
   "source": [
    "## Daten vorbereiten ##"
   ]
  },
  {
   "cell_type": "markdown",
   "metadata": {},
   "source": [
    "Datensatz MNIST ist bei tensorflow dabei"
   ]
  },
  {
   "cell_type": "code",
   "execution_count": 50,
   "metadata": {
    "collapsed": true
   },
   "outputs": [
    {
     "data": {
      "text/plain": [
       "(60000, 28, 28)"
      ]
     },
     "execution_count": 50,
     "metadata": {},
     "output_type": "execute_result"
    }
   ],
   "source": [
    "(X_train_orig, y_train), (X_test_orig, y_test) = mnist.load_data()\n",
    "X_train_orig.shape"
   ]
  },
  {
   "cell_type": "markdown",
   "metadata": {},
   "source": [
    "Beispielbild aus Trainingsdatensatz anzeigen"
   ]
  },
  {
   "cell_type": "code",
   "execution_count": 51,
   "metadata": {
    "collapsed": true
   },
   "outputs": [
    {
     "name": "stdout",
     "output_type": "stream",
     "text": [
      "4\n"
     ]
    },
    {
     "data": {
      "image/png": "[encoded data removed]",
      "text/plain": [
       "<Figure size 432x288 with 1 Axes>"
      ]
     },
     "metadata": {
      "needs_background": "light"
     },
     "output_type": "display_data"
    }
   ],
   "source": [
    "fig = plt.figure()\n",
    "fig.add_subplot(1,2,1)\n",
    "plt.imshow(X_train_orig[2])\n",
    "print(y_train[2])"
   ]
  },
  {
   "cell_type": "markdown",
   "metadata": {},
   "source": [
    "Trick: mit reshape von Matrix zu Vektor (= erwartete Eingabe des NN) umwandeln"
   ]
  },
  {
   "cell_type": "code",
   "execution_count": 52,
   "metadata": {
    "collapsed": true
   },
   "outputs": [
    {
     "data": {
      "text/plain": [
       "(60000, 784)"
      ]
     },
     "execution_count": 52,
     "metadata": {},
     "output_type": "execute_result"
    }
   ],
   "source": [
    "X_train = X_train_orig.reshape(X_train_orig.shape[0],28*28)\n",
    "X_train = X_train /255.0\n",
    "X_train.shape"
   ]
  },
  {
   "cell_type": "markdown",
   "metadata": {},
   "source": [
    "## Modell bauen ##"
   ]
  },
  {
   "cell_type": "code",
   "execution_count": 53,
   "metadata": {
    "collapsed": true
   },
   "outputs": [
    {
     "name": "stdout",
     "output_type": "stream",
     "text": [
      "Model: \"sequential_4\"\n",
      "_________________________________________________________________\n",
      "Layer (type)                 Output Shape              Param #   \n",
      "=================================================================\n",
      "dense_8 (Dense)              (None, 128)               100480    \n",
      "_________________________________________________________________\n",
      "dense_9 (Dense)              (None, 19)                2451      \n",
      "=================================================================\n",
      "Total params: 102,931\n",
      "Trainable params: 102,931\n",
      "Non-trainable params: 0\n",
      "_________________________________________________________________\n"
     ]
    }
   ],
   "source": [
    "model = Sequential()\n",
    "model.add(Dense(128, activation='sigmoid', input_dim=28*28))\n",
    "model.add(Dense(19, activation='softmax'))\n",
    "model.compile(loss = 'sparse_categorical_crossentropy', optimizer='adam', metrics=['accuracy'])\n",
    "model.summary()"
   ]
  },
  {
   "cell_type": "markdown",
   "metadata": {},
   "source": [
    "Modell mit Daten trainieren mit 10 Epochen. Eine Epoche ist eine Iteration über alle Eingaben."
   ]
  },
  {
   "cell_type": "code",
   "execution_count": 54,
   "metadata": {
    "collapsed": true
   },
   "outputs": [
    {
     "name": "stdout",
     "output_type": "stream",
     "text": [
      "Epoch 1/10\n",
      "1875/1875 [==============================] - 1s 643us/step - loss: 0.4023 - accuracy: 0.8966\n",
      "Epoch 2/10\n",
      "1875/1875 [==============================] - 1s 666us/step - loss: 0.1951 - accuracy: 0.9434\n",
      "Epoch 3/10\n",
      "1875/1875 [==============================] - 1s 639us/step - loss: 0.1429 - accuracy: 0.9582\n",
      "Epoch 4/10\n",
      "1875/1875 [==============================] - 1s 648us/step - loss: 0.1122 - accuracy: 0.9678\n",
      "Epoch 5/10\n",
      "1875/1875 [==============================] - 1s 620us/step - loss: 0.0903 - accuracy: 0.9735\n",
      "Epoch 6/10\n",
      "1875/1875 [==============================] - 1s 664us/step - loss: 0.0745 - accuracy: 0.9788\n",
      "Epoch 7/10\n",
      "1875/1875 [==============================] - 1s 718us/step - loss: 0.0619 - accuracy: 0.9824\n",
      "Epoch 8/10\n",
      "1875/1875 [==============================] - 1s 658us/step - loss: 0.0521 - accuracy: 0.9851\n",
      "Epoch 9/10\n",
      "1875/1875 [==============================] - 1s 623us/step - loss: 0.0438 - accuracy: 0.9884\n",
      "Epoch 10/10\n",
      "1875/1875 [==============================] - 1s 641us/step - loss: 0.0372 - accuracy: 0.9902\n"
     ]
    },
    {
     "data": {
      "text/plain": [
       "<tensorflow.python.keras.callbacks.History at 0x1a57470dac0>"
      ]
     },
     "execution_count": 54,
     "metadata": {},
     "output_type": "execute_result"
    }
   ],
   "source": [
    "model.fit(X_train, y_train, epochs= 10)"
   ]
  },
  {
   "cell_type": "markdown",
   "metadata": {},
   "source": [
    "## Evaluation ##"
   ]
  },
  {
   "cell_type": "markdown",
   "metadata": {},
   "source": [
    "Reshape-Trick wie bei Trainingsdaten"
   ]
  },
  {
   "cell_type": "code",
   "execution_count": 55,
   "metadata": {
    "collapsed": true
   },
   "outputs": [
    {
     "data": {
      "text/plain": [
       "(10000, 784)"
      ]
     },
     "execution_count": 55,
     "metadata": {},
     "output_type": "execute_result"
    }
   ],
   "source": [
    "X_test = X_test_orig.reshape(X_test_orig.shape[0],28*28)\n",
    "X_test = X_test /255.0\n",
    "X_test.shape"
   ]
  },
  {
   "cell_type": "markdown",
   "metadata": {},
   "source": [
    " Prädiktion auf Testdaten durchführen (_Hinweis: model.predict_classes(X_test) is deprecated_)"
   ]
  },
  {
   "cell_type": "code",
   "execution_count": 62,
   "metadata": {
    "collapsed": true
   },
   "outputs": [
    {
     "data": {
      "text/plain": [
       "array([7, 2, 1, ..., 4, 5, 6], dtype=int64)"
      ]
     },
     "execution_count": 62,
     "metadata": {},
     "output_type": "execute_result"
    }
   ],
   "source": [
    "y_pred = np.argmax(model.predict(X_test), axis=-1)\n",
    "y_pred"
   ]
  },
  {
   "cell_type": "code",
   "execution_count": 63,
   "metadata": {
    "collapsed": true
   },
   "outputs": [
    {
     "name": "stdout",
     "output_type": "stream",
     "text": [
      "2\n"
     ]
    },
    {
     "data": {
      "image/png": "[encoded data removed]",
      "text/plain": [
       "<Figure size 432x288 with 1 Axes>"
      ]
     },
     "metadata": {
      "needs_background": "light"
     },
     "output_type": "display_data"
    }
   ],
   "source": [
    "fig = plt.figure()\n",
    "plt.imshow(X_test_orig[1])\n",
    "print(y_test[1])"
   ]
  },
  {
   "cell_type": "markdown",
   "metadata": {},
   "source": [
    "Metriken berechnen"
   ]
  },
  {
   "cell_type": "code",
   "execution_count": 64,
   "metadata": {
    "collapsed": true
   },
   "outputs": [
    {
     "name": "stdout",
     "output_type": "stream",
     "text": [
      "9778  classified correctly\n",
      "222  classified incorrectly\n"
     ]
    }
   ],
   "source": [
    "correct_predictions = np.nonzero(y_pred == y_test)[0]\n",
    "incorrect_predictions = np.nonzero(y_pred != y_test)[0]\n",
    "print(len(correct_predictions),\" classified correctly\")\n",
    "print(len(incorrect_predictions),\" classified incorrectly\")"
   ]
  },
  {
   "cell_type": "code",
   "execution_count": 65,
   "metadata": {
    "collapsed": true
   },
   "outputs": [],
   "source": [
    "# Import Scikit-Learn\n",
    "from sklearn.metrics import confusion_matrix"
   ]
  },
  {
   "cell_type": "code",
   "execution_count": 71,
   "metadata": {
    "collapsed": true
   },
   "outputs": [
    {
     "data": {
      "text/plain": [
       "array([[ 971,    0,    2,    1,    0,    0,    3,    1,    2,    0],\n",
       "       [   0, 1126,    4,    0,    0,    1,    1,    0,    3,    0],\n",
       "       [   4,    2, 1012,    2,    1,    0,    2,    2,    7,    0],\n",
       "       [   0,    0,    3,  996,    1,    1,    0,    4,    3,    2],\n",
       "       [   0,    0,    2,    1,  952,    0,    5,    4,    0,   18],\n",
       "       [   3,    0,    0,   11,    2,  863,    4,    0,    6,    3],\n",
       "       [   6,    3,    2,    1,    4,    5,  930,    0,    7,    0],\n",
       "       [   1,    3,   13,    7,    0,    0,    0,  996,    0,    8],\n",
       "       [   3,    0,    3,    7,    3,    3,    0,    3,  950,    2],\n",
       "       [   2,    3,    0,    8,    3,    3,    0,    7,    1,  982]],\n",
       "      dtype=int64)"
      ]
     },
     "execution_count": 71,
     "metadata": {},
     "output_type": "execute_result"
    }
   ],
   "source": [
    "# Create Confusion Matrix\n",
    "confusion_matrix(y_test, y_pred)"
   ]
  },
  {
   "cell_type": "code",
   "execution_count": 76,
   "metadata": {
    "collapsed": true
   },
   "outputs": [
    {
     "data": {
      "text/plain": [
       "(array([0.98080808, 0.99032542, 0.97214217, 0.96324952, 0.98550725,\n",
       "        0.98515982, 0.98412698, 0.97935103, 0.97037794, 0.96748768]),\n",
       " array([0.99081633, 0.99207048, 0.98062016, 0.98613861, 0.9694501 ,\n",
       "        0.96748879, 0.97077244, 0.9688716 , 0.97535934, 0.97324083]),\n",
       " array([0.9857868 , 0.99119718, 0.97636276, 0.97455969, 0.97741273,\n",
       "        0.97624434, 0.9774041 , 0.97408313, 0.97286226, 0.97035573]),\n",
       " array([ 980, 1135, 1032, 1010,  982,  892,  958, 1028,  974, 1009],\n",
       "       dtype=int64))"
      ]
     },
     "execution_count": 76,
     "metadata": {},
     "output_type": "execute_result"
    }
   ],
   "source": [
    "from sklearn.metrics import precision_recall_fscore_support\n",
    "precision_recall_fscore_support(y_test, y_pred, average=None)"
   ]
  },
  {
   "cell_type": "code",
   "execution_count": 79,
   "metadata": {
    "collapsed": true
   },
   "outputs": [
    {
     "name": "stdout",
     "output_type": "stream",
     "text": [
      "313/313 [==============================] - 0s 699us/step - loss: 0.0723 - accuracy: 0.9778\n",
      "Test loss: 0.07232661545276642\n",
      "Test accuracy: 0.9778000116348267\n"
     ]
    }
   ],
   "source": [
    "score = model.evaluate(X_test, y_test)\n",
    "print('Test loss:', score[0])\n",
    "print('Test accuracy:', score[1])"
   ]
  }
 ],
 "metadata": {
  "kernelspec": {
   "display_name": "tensorflow2",
   "language": "python",
   "name": "python3"
  },
  "language_info": {
   "codemirror_mode": {
    "name": "ipython",
    "version": 3
   },
   "file_extension": ".py",
   "mimetype": "text/x-python",
   "name": "python",
   "nbconvert_exporter": "python",
   "pygments_lexer": "ipython3",
   "version": "3.9.15"
  },
  "vscode": {
   "interpreter": {
    "hash": "66259c977dd932472b40245aba3b1647f99e58e5ccfde8e91adc8726dee43ea5"
   }
  }
 },
 "nbformat": 4,
 "nbformat_minor": 2
}
