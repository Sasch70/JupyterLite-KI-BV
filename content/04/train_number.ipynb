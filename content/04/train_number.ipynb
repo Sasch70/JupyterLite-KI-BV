{
 "cells": [
  {
   "cell_type": "markdown",
   "metadata": {},
   "source": [
    "### Ziffern erkennen mit Neuronalen Netzen\n",
    "Vereinfachtes Beispiel angelehnt an MNIST. Demonstriert Backpropagation.\n",
    "Autor: Prof. Sascha Seifert"
   ]
  },
  {
   "cell_type": "code",
   "execution_count": 1,
   "metadata": {},
   "outputs": [],
   "source": [
    "import numpy as np\n",
    "import matplotlib.pyplot as plt"
   ]
  },
  {
   "cell_type": "markdown",
   "metadata": {},
   "source": [
    "### Trainingsdaten vorbereiten"
   ]
  },
  {
   "cell_type": "code",
   "execution_count": 2,
   "metadata": {},
   "outputs": [],
   "source": [
    "# Ziffernbilder\n",
    "one = np.array([[0,0,1,0],[0,1,1,0],[1,0,1,0],[0,0,1,0],[0,0,1,0]])\n",
    "two = np.array([[0,1,1,0],[1,0,0,1],[0,0,1,0],[0,1,0,0],[1,1,1,1]])\n",
    "\n",
    "# Trainingsvektor\n",
    "X_train = np.array([one.flatten(), two.flatten()])\n",
    "\n",
    "# Ausgabevektor (Labels) in One-Hot-Encoding\n",
    "y_train = np.array([[1, 0, 0],[0, 1, 0]])\n",
    "N = y_train.size"
   ]
  },
  {
   "cell_type": "code",
   "execution_count": 3,
   "metadata": {},
   "outputs": [
    {
     "data": {
      "image/png": "[encoded data removed]",
      "text/plain": [
       "<Figure size 432x288 with 2 Axes>"
      ]
     },
     "metadata": {
      "needs_background": "light"
     },
     "output_type": "display_data"
    }
   ],
   "source": [
    "# Trainingsdaten anzeigen\n",
    "fig = plt.figure()\n",
    "fig.add_subplot(1,2,1)\n",
    "plt.imshow(one)\n",
    "fig.add_subplot(1,2,2)\n",
    "plt.imshow(two)\n",
    "plt.show()"
   ]
  },
  {
   "cell_type": "markdown",
   "metadata": {},
   "source": [
    "### Neuronales Netz erstellen "
   ]
  },
  {
   "cell_type": "code",
   "execution_count": 4,
   "metadata": {},
   "outputs": [],
   "source": [
    "# Hyperparameter \n",
    "input_size = 20\n",
    "hidden_size = 10\n",
    "output_size = 3\n",
    "learning_rate = 0.2\n",
    "num_iterations = 5000"
   ]
  },
  {
   "cell_type": "code",
   "execution_count": 5,
   "metadata": {},
   "outputs": [],
   "source": [
    "# Gewichtsmatrizen mit zufälligen Werten initialisieren\n",
    "np.random.seed(10)\n",
    "W1 = np.random.normal(scale=0.5, size=(input_size, hidden_size))   \n",
    "W2 = np.random.normal(scale=0.5, size=(hidden_size, output_size)) "
   ]
  },
  {
   "cell_type": "code",
   "execution_count": 6,
   "metadata": {},
   "outputs": [],
   "source": [
    "# Aktivierungsfunktion \n",
    "def sigmoid(x):\n",
    "    return 1 / (1 + np.exp(-x))\n",
    "\n",
    "# Layerberechnung Netzeingang und Aktivierung\n",
    "def layer(W, I):\n",
    "    return sigmoid(np.dot(I,W))"
   ]
  },
  {
   "cell_type": "markdown",
   "metadata": {},
   "source": [
    "### Training\n",
    "Verfahren: _Stochastic Gradient Descent_\n",
    "\n",
    "Ableitung L2-Loss: y - y_train\n",
    "\n",
    "Ableitung Sigmoid: y * (1 - y)"
   ]
  },
  {
   "cell_type": "code",
   "execution_count": 7,
   "metadata": {},
   "outputs": [],
   "source": [
    "#Training\n",
    "for itr in range(num_iterations): \n",
    "\n",
    "    # forward pass\n",
    "    h1 = layer(W1, X_train)\n",
    "    y = layer(W2, h1)\n",
    "\n",
    "    # backward pass \n",
    "\n",
    "    # W2 Gewichtsanpassung, Loss E2 an Ausgabeschicht\n",
    "    E2 = y - y_train\n",
    "    dW2 = E2 * y * (1 - y) # delta rule\n",
    "    W2_update = np.dot(h1.T, dW2) / N\n",
    "    W2 = W2 - learning_rate * W2_update\n",
    "     \n",
    "    # W1 Gewichtsanpassung, Loss E1 an Hidden-Layer\n",
    "    E1 = np.dot(dW2, W2.T)\n",
    "    dW1 = E1 * h1 * (1 - h1)\n",
    "    W1_update = np.dot(X_train.T, dW1) / N\n",
    "    W1 = W1 - learning_rate * W1_update\n"
   ]
  },
  {
   "cell_type": "markdown",
   "metadata": {},
   "source": [
    "### Test\n",
    "Hat unser Netz etwas gelernt? Das testen wir mit leicht geänderten Eingabedaten."
   ]
  },
  {
   "cell_type": "code",
   "execution_count": 9,
   "metadata": {},
   "outputs": [
    {
     "name": "stdout",
     "output_type": "stream",
     "text": [
      "Prädiktion: [0.92890105 0.06070552 0.0177759 ]\n",
      "Prädiktion: [0.0419579  0.96363104 0.02228341]\n"
     ]
    },
    {
     "data": {
      "image/png": "[encoded data removed]",
      "text/plain": [
       "<Figure size 432x288 with 2 Axes>"
      ]
     },
     "metadata": {
      "needs_background": "light"
     },
     "output_type": "display_data"
    }
   ],
   "source": [
    "# Testdaten\n",
    "one_test = np.array([[0,0,1,0],[0,1,0,0],[1,0,1,0],[0,0,1,0],[0,0,1,0]])\n",
    "two_test = np.array([[0,1,0,0],[1,0,0,1],[0,0,1,0],[0,1,0,0],[1,1,1,0]])\n",
    "X_test = np.array([one_test, two_test])\n",
    "\n",
    "for itr in range(2):\n",
    "    h1 = layer(W1, X_test[itr].flatten())\n",
    "    y = layer(W2, h1)\n",
    "    print(\"Prädiktion:\", y)\n",
    "\n",
    "# Testdaten anzeigen\n",
    "fig = plt.figure()\n",
    "fig.add_subplot(1,2,1)\n",
    "plt.imshow(one_test)\n",
    "fig.add_subplot(1,2,2)\n",
    "plt.imshow(two_test)\n",
    "plt.show()"
   ]
  }
 ],
 "metadata": {
  "kernelspec": {
   "display_name": "Python 3.9.12 ('tensorflow')",
   "language": "python",
   "name": "python3"
  },
  "language_info": {
   "codemirror_mode": {
    "name": "ipython",
    "version": 3
   },
   "file_extension": ".py",
   "mimetype": "text/x-python",
   "name": "python",
   "nbconvert_exporter": "python",
   "pygments_lexer": "ipython3",
   "version": "3.9.12"
  },
  "orig_nbformat": 4,
  "vscode": {
   "interpreter": {
    "hash": "30d453d1063587679cb9ea756948dfdffb15ba9c7658ece4abaa6ce81067b233"
   }
  }
 },
 "nbformat": 4,
 "nbformat_minor": 2
}
