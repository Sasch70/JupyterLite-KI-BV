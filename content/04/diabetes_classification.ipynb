{
 "cells": [
  {
   "cell_type": "markdown",
   "metadata": {},
   "source": [
    "### Diabetes bei Pima-Indianern"
   ]
  },
  {
   "cell_type": "code",
   "execution_count": 1,
   "metadata": {},
   "outputs": [],
   "source": [
    "# first neural network with keras make predictions\n",
    "from numpy import loadtxt\n",
    "from tensorflow.keras.models import Sequential\n",
    "from tensorflow.keras.layers import Dense\n",
    "from sklearn.model_selection import train_test_split\n",
    "import matplotlib.pyplot as plt\n",
    "import numpy as np"
   ]
  },
  {
   "cell_type": "markdown",
   "metadata": {},
   "source": [
    "Daten vorbereiten"
   ]
  },
  {
   "cell_type": "code",
   "execution_count": 2,
   "metadata": {},
   "outputs": [],
   "source": [
    "# load pima indians dataset\n",
    "import numpy as np\n",
    "dataset = np.loadtxt(\"pima-indians-diabetes.csv\", delimiter=\",\")\n",
    "# split into input (X) and output (Y) variables\n",
    "X = dataset[:,0:8]\n",
    "Y = dataset[:,8]"
   ]
  },
  {
   "cell_type": "code",
   "execution_count": 3,
   "metadata": {},
   "outputs": [],
   "source": [
    "X_train, X_test, y_train, y_test = train_test_split(X, Y, test_size=0.5)"
   ]
  },
  {
   "cell_type": "markdown",
   "metadata": {},
   "source": [
    "Modell bauen und trainieren"
   ]
  },
  {
   "cell_type": "code",
   "execution_count": 4,
   "metadata": {},
   "outputs": [
    {
     "name": "stdout",
     "output_type": "stream",
     "text": [
      "Model: \"sequential\"\n",
      "_________________________________________________________________\n",
      "Layer (type)                 Output Shape              Param #   \n",
      "=================================================================\n",
      "dense (Dense)                (None, 12)                108       \n",
      "_________________________________________________________________\n",
      "dense_1 (Dense)              (None, 8)                 104       \n",
      "_________________________________________________________________\n",
      "dense_2 (Dense)              (None, 1)                 9         \n",
      "=================================================================\n",
      "Total params: 221\n",
      "Trainable params: 221\n",
      "Non-trainable params: 0\n",
      "_________________________________________________________________\n"
     ]
    }
   ],
   "source": [
    "# create model\n",
    "model = Sequential()\n",
    "model.add(Dense(12, input_dim=8, activation='relu'))\n",
    "model.add(Dense(8, activation='relu'))\n",
    "model.add(Dense(1, activation='sigmoid'))\n",
    "# Compile model\n",
    "model.compile(loss='binary_crossentropy', optimizer='adam', metrics=['accuracy'])\n",
    "model.summary()"
   ]
  },
  {
   "cell_type": "code",
   "execution_count": 5,
   "metadata": {},
   "outputs": [
    {
     "name": "stdout",
     "output_type": "stream",
     "text": [
      "Epoch 1/150\n",
      "26/26 [==============================] - 1s 6ms/step - loss: 8.9641 - accuracy: 0.6265 - val_loss: 5.6743 - val_accuracy: 0.6378\n",
      "Epoch 2/150\n",
      "26/26 [==============================] - 0s 2ms/step - loss: 3.8024 - accuracy: 0.5681 - val_loss: 2.1600 - val_accuracy: 0.5118\n",
      "Epoch 3/150\n",
      "26/26 [==============================] - 0s 2ms/step - loss: 1.9485 - accuracy: 0.5058 - val_loss: 1.4352 - val_accuracy: 0.5197\n",
      "Epoch 4/150\n",
      "26/26 [==============================] - 0s 2ms/step - loss: 1.5562 - accuracy: 0.5759 - val_loss: 1.1717 - val_accuracy: 0.4961\n",
      "Epoch 5/150\n",
      "26/26 [==============================] - 0s 2ms/step - loss: 1.3941 - accuracy: 0.5642 - val_loss: 1.1220 - val_accuracy: 0.5433\n",
      "Epoch 6/150\n",
      "26/26 [==============================] - 0s 2ms/step - loss: 1.2400 - accuracy: 0.6070 - val_loss: 1.0541 - val_accuracy: 0.5512\n",
      "Epoch 7/150\n",
      "26/26 [==============================] - 0s 2ms/step - loss: 1.1398 - accuracy: 0.6226 - val_loss: 1.0201 - val_accuracy: 0.5591\n",
      "Epoch 8/150\n",
      "26/26 [==============================] - 0s 2ms/step - loss: 1.0454 - accuracy: 0.6070 - val_loss: 0.9443 - val_accuracy: 0.5512\n",
      "Epoch 9/150\n",
      "26/26 [==============================] - 0s 2ms/step - loss: 0.9631 - accuracy: 0.6148 - val_loss: 0.9325 - val_accuracy: 0.5512\n",
      "Epoch 10/150\n",
      "26/26 [==============================] - 0s 2ms/step - loss: 0.9047 - accuracy: 0.5875 - val_loss: 0.9201 - val_accuracy: 0.5906\n",
      "Epoch 11/150\n",
      "26/26 [==============================] - 0s 2ms/step - loss: 0.8368 - accuracy: 0.6304 - val_loss: 0.8820 - val_accuracy: 0.6063\n",
      "Epoch 12/150\n",
      "26/26 [==============================] - 0s 2ms/step - loss: 0.8052 - accuracy: 0.6342 - val_loss: 0.9402 - val_accuracy: 0.6299\n",
      "Epoch 13/150\n",
      "26/26 [==============================] - 0s 2ms/step - loss: 0.7632 - accuracy: 0.6342 - val_loss: 0.8521 - val_accuracy: 0.5827\n",
      "Epoch 14/150\n",
      "26/26 [==============================] - 0s 2ms/step - loss: 0.7427 - accuracy: 0.6459 - val_loss: 0.8415 - val_accuracy: 0.6614\n",
      "Epoch 15/150\n",
      "26/26 [==============================] - 0s 2ms/step - loss: 0.6953 - accuracy: 0.6770 - val_loss: 0.8268 - val_accuracy: 0.5591\n",
      "Epoch 16/150\n",
      "26/26 [==============================] - 0s 2ms/step - loss: 0.6910 - accuracy: 0.6654 - val_loss: 0.8738 - val_accuracy: 0.6063\n",
      "Epoch 17/150\n",
      "26/26 [==============================] - 0s 2ms/step - loss: 0.6679 - accuracy: 0.6809 - val_loss: 0.8401 - val_accuracy: 0.6378\n",
      "Epoch 18/150\n",
      "26/26 [==============================] - 0s 2ms/step - loss: 0.6549 - accuracy: 0.6770 - val_loss: 0.8075 - val_accuracy: 0.6535\n",
      "Epoch 19/150\n",
      "26/26 [==============================] - 0s 2ms/step - loss: 0.6294 - accuracy: 0.7082 - val_loss: 0.8220 - val_accuracy: 0.6299\n",
      "Epoch 20/150\n",
      "26/26 [==============================] - 0s 3ms/step - loss: 0.6270 - accuracy: 0.7043 - val_loss: 0.7859 - val_accuracy: 0.6299\n",
      "Epoch 21/150\n",
      "26/26 [==============================] - 0s 3ms/step - loss: 0.6056 - accuracy: 0.6926 - val_loss: 0.7834 - val_accuracy: 0.6299\n",
      "Epoch 22/150\n",
      "26/26 [==============================] - 0s 3ms/step - loss: 0.5934 - accuracy: 0.6965 - val_loss: 0.7711 - val_accuracy: 0.6142\n",
      "Epoch 23/150\n",
      "26/26 [==============================] - 0s 3ms/step - loss: 0.5922 - accuracy: 0.6615 - val_loss: 0.8218 - val_accuracy: 0.6220\n",
      "Epoch 24/150\n",
      "26/26 [==============================] - 0s 2ms/step - loss: 0.5848 - accuracy: 0.7276 - val_loss: 0.7876 - val_accuracy: 0.6457\n",
      "Epoch 25/150\n",
      "26/26 [==============================] - 0s 2ms/step - loss: 0.5852 - accuracy: 0.7160 - val_loss: 0.7848 - val_accuracy: 0.6142\n",
      "Epoch 26/150\n",
      "26/26 [==============================] - 0s 3ms/step - loss: 0.5842 - accuracy: 0.7160 - val_loss: 0.7791 - val_accuracy: 0.6220\n",
      "Epoch 27/150\n",
      "26/26 [==============================] - 0s 2ms/step - loss: 0.5774 - accuracy: 0.6887 - val_loss: 0.8148 - val_accuracy: 0.6063\n",
      "Epoch 28/150\n",
      "26/26 [==============================] - 0s 3ms/step - loss: 0.5719 - accuracy: 0.7043 - val_loss: 0.7874 - val_accuracy: 0.6299\n",
      "Epoch 29/150\n",
      "26/26 [==============================] - 0s 2ms/step - loss: 0.5628 - accuracy: 0.7043 - val_loss: 0.7822 - val_accuracy: 0.6220\n",
      "Epoch 30/150\n",
      "26/26 [==============================] - 0s 4ms/step - loss: 0.5647 - accuracy: 0.7198 - val_loss: 0.7851 - val_accuracy: 0.6142\n",
      "Epoch 31/150\n",
      "26/26 [==============================] - 1s 27ms/step - loss: 0.5489 - accuracy: 0.7549 - val_loss: 0.8002 - val_accuracy: 0.6299\n",
      "Epoch 32/150\n",
      "26/26 [==============================] - 0s 6ms/step - loss: 0.5486 - accuracy: 0.7198 - val_loss: 0.8134 - val_accuracy: 0.5433\n",
      "Epoch 33/150\n",
      "26/26 [==============================] - 0s 5ms/step - loss: 0.5492 - accuracy: 0.7198 - val_loss: 0.7871 - val_accuracy: 0.6220\n",
      "Epoch 34/150\n",
      "26/26 [==============================] - 0s 3ms/step - loss: 0.5379 - accuracy: 0.7393 - val_loss: 0.7899 - val_accuracy: 0.6535\n",
      "Epoch 35/150\n",
      "26/26 [==============================] - 0s 4ms/step - loss: 0.5473 - accuracy: 0.7237 - val_loss: 0.8213 - val_accuracy: 0.5276\n",
      "Epoch 36/150\n",
      "26/26 [==============================] - 0s 3ms/step - loss: 0.5951 - accuracy: 0.6809 - val_loss: 0.8696 - val_accuracy: 0.5354\n",
      "Epoch 37/150\n",
      "26/26 [==============================] - 0s 4ms/step - loss: 0.5411 - accuracy: 0.7432 - val_loss: 0.7849 - val_accuracy: 0.6614\n",
      "Epoch 38/150\n",
      "26/26 [==============================] - 0s 3ms/step - loss: 0.5258 - accuracy: 0.7432 - val_loss: 0.7836 - val_accuracy: 0.6614\n",
      "Epoch 39/150\n",
      "26/26 [==============================] - 0s 4ms/step - loss: 0.5204 - accuracy: 0.7432 - val_loss: 0.7916 - val_accuracy: 0.6457\n",
      "Epoch 40/150\n",
      "26/26 [==============================] - 0s 7ms/step - loss: 0.5273 - accuracy: 0.7276 - val_loss: 0.7926 - val_accuracy: 0.6535\n",
      "Epoch 41/150\n",
      "26/26 [==============================] - 0s 5ms/step - loss: 0.5159 - accuracy: 0.7393 - val_loss: 0.7802 - val_accuracy: 0.6299\n",
      "Epoch 42/150\n",
      "26/26 [==============================] - 0s 3ms/step - loss: 0.5105 - accuracy: 0.7315 - val_loss: 0.7776 - val_accuracy: 0.6614\n",
      "Epoch 43/150\n",
      "26/26 [==============================] - 0s 3ms/step - loss: 0.5133 - accuracy: 0.7549 - val_loss: 0.7788 - val_accuracy: 0.6299\n",
      "Epoch 44/150\n",
      "26/26 [==============================] - 0s 3ms/step - loss: 0.5333 - accuracy: 0.7121 - val_loss: 0.8118 - val_accuracy: 0.6220\n",
      "Epoch 45/150\n",
      "26/26 [==============================] - 0s 2ms/step - loss: 0.5235 - accuracy: 0.7004 - val_loss: 0.9008 - val_accuracy: 0.6299\n",
      "Epoch 46/150\n",
      "26/26 [==============================] - 0s 5ms/step - loss: 0.5584 - accuracy: 0.7121 - val_loss: 0.8587 - val_accuracy: 0.6142\n",
      "Epoch 47/150\n",
      "26/26 [==============================] - 0s 5ms/step - loss: 0.5087 - accuracy: 0.7237 - val_loss: 0.7787 - val_accuracy: 0.6457\n",
      "Epoch 48/150\n",
      "26/26 [==============================] - 0s 11ms/step - loss: 0.5143 - accuracy: 0.7471 - val_loss: 0.7813 - val_accuracy: 0.6535\n",
      "Epoch 49/150\n",
      "26/26 [==============================] - 0s 5ms/step - loss: 0.5240 - accuracy: 0.7549 - val_loss: 0.8053 - val_accuracy: 0.6535\n",
      "Epoch 50/150\n",
      "26/26 [==============================] - 0s 4ms/step - loss: 0.5173 - accuracy: 0.7588 - val_loss: 0.8121 - val_accuracy: 0.6378\n",
      "Epoch 51/150\n",
      "26/26 [==============================] - 0s 4ms/step - loss: 0.4991 - accuracy: 0.7510 - val_loss: 0.7803 - val_accuracy: 0.6378\n",
      "Epoch 52/150\n",
      "26/26 [==============================] - 0s 3ms/step - loss: 0.4951 - accuracy: 0.7588 - val_loss: 0.7976 - val_accuracy: 0.6614\n",
      "Epoch 53/150\n",
      "26/26 [==============================] - 0s 3ms/step - loss: 0.5079 - accuracy: 0.7393 - val_loss: 0.7983 - val_accuracy: 0.6457\n",
      "Epoch 54/150\n",
      "26/26 [==============================] - 0s 3ms/step - loss: 0.5084 - accuracy: 0.7588 - val_loss: 0.7819 - val_accuracy: 0.6693\n",
      "Epoch 55/150\n",
      "26/26 [==============================] - 0s 6ms/step - loss: 0.5039 - accuracy: 0.7588 - val_loss: 0.7759 - val_accuracy: 0.6457\n",
      "Epoch 56/150\n",
      "26/26 [==============================] - 0s 2ms/step - loss: 0.4946 - accuracy: 0.7510 - val_loss: 0.7938 - val_accuracy: 0.6614\n",
      "Epoch 57/150\n",
      "26/26 [==============================] - 0s 3ms/step - loss: 0.5024 - accuracy: 0.7393 - val_loss: 0.7760 - val_accuracy: 0.6693\n",
      "Epoch 58/150\n",
      "26/26 [==============================] - 0s 2ms/step - loss: 0.4938 - accuracy: 0.7471 - val_loss: 0.7709 - val_accuracy: 0.6299\n",
      "Epoch 59/150\n",
      "26/26 [==============================] - 0s 3ms/step - loss: 0.4990 - accuracy: 0.7626 - val_loss: 0.7730 - val_accuracy: 0.6614\n",
      "Epoch 60/150\n",
      "26/26 [==============================] - 0s 3ms/step - loss: 0.4978 - accuracy: 0.7354 - val_loss: 0.7701 - val_accuracy: 0.6299\n",
      "Epoch 61/150\n",
      "26/26 [==============================] - 0s 3ms/step - loss: 0.5004 - accuracy: 0.7432 - val_loss: 0.8003 - val_accuracy: 0.6614\n",
      "Epoch 62/150\n",
      "26/26 [==============================] - 0s 4ms/step - loss: 0.4857 - accuracy: 0.7432 - val_loss: 0.7718 - val_accuracy: 0.6457\n",
      "Epoch 63/150\n",
      "26/26 [==============================] - 0s 3ms/step - loss: 0.4920 - accuracy: 0.7393 - val_loss: 0.7727 - val_accuracy: 0.6614\n",
      "Epoch 64/150\n",
      "26/26 [==============================] - 0s 3ms/step - loss: 0.4924 - accuracy: 0.7471 - val_loss: 0.7719 - val_accuracy: 0.6614\n",
      "Epoch 65/150\n",
      "26/26 [==============================] - 0s 2ms/step - loss: 0.4906 - accuracy: 0.7588 - val_loss: 0.7758 - val_accuracy: 0.6693\n",
      "Epoch 66/150\n",
      "26/26 [==============================] - 0s 2ms/step - loss: 0.4906 - accuracy: 0.7393 - val_loss: 0.8603 - val_accuracy: 0.6220\n",
      "Epoch 67/150\n",
      "26/26 [==============================] - 0s 2ms/step - loss: 0.5026 - accuracy: 0.7393 - val_loss: 0.8238 - val_accuracy: 0.6457\n",
      "Epoch 68/150\n",
      "26/26 [==============================] - 0s 2ms/step - loss: 0.4952 - accuracy: 0.7510 - val_loss: 0.7913 - val_accuracy: 0.6850\n",
      "Epoch 69/150\n",
      "26/26 [==============================] - 0s 2ms/step - loss: 0.4976 - accuracy: 0.7354 - val_loss: 0.8009 - val_accuracy: 0.6614\n",
      "Epoch 70/150\n",
      "26/26 [==============================] - 0s 2ms/step - loss: 0.5078 - accuracy: 0.7510 - val_loss: 0.8161 - val_accuracy: 0.6220\n",
      "Epoch 71/150\n",
      "26/26 [==============================] - 0s 2ms/step - loss: 0.4827 - accuracy: 0.7588 - val_loss: 0.7652 - val_accuracy: 0.6457\n",
      "Epoch 72/150\n",
      "26/26 [==============================] - 0s 3ms/step - loss: 0.5035 - accuracy: 0.7588 - val_loss: 0.8595 - val_accuracy: 0.6378\n",
      "Epoch 73/150\n",
      "26/26 [==============================] - 0s 2ms/step - loss: 0.5217 - accuracy: 0.7121 - val_loss: 0.7714 - val_accuracy: 0.6614\n",
      "Epoch 74/150\n",
      "26/26 [==============================] - 0s 2ms/step - loss: 0.4922 - accuracy: 0.7354 - val_loss: 0.7795 - val_accuracy: 0.6772\n",
      "Epoch 75/150\n",
      "26/26 [==============================] - 0s 2ms/step - loss: 0.4896 - accuracy: 0.7588 - val_loss: 0.7565 - val_accuracy: 0.6535\n",
      "Epoch 76/150\n",
      "26/26 [==============================] - 0s 2ms/step - loss: 0.4888 - accuracy: 0.7393 - val_loss: 0.7689 - val_accuracy: 0.6535\n",
      "Epoch 77/150\n",
      "26/26 [==============================] - 0s 2ms/step - loss: 0.4913 - accuracy: 0.7510 - val_loss: 0.7743 - val_accuracy: 0.6457\n",
      "Epoch 78/150\n",
      "26/26 [==============================] - 0s 2ms/step - loss: 0.4860 - accuracy: 0.7393 - val_loss: 0.7643 - val_accuracy: 0.6457\n",
      "Epoch 79/150\n",
      "26/26 [==============================] - 0s 2ms/step - loss: 0.4873 - accuracy: 0.7665 - val_loss: 0.7826 - val_accuracy: 0.6535\n",
      "Epoch 80/150\n",
      "26/26 [==============================] - 0s 2ms/step - loss: 0.4856 - accuracy: 0.7549 - val_loss: 0.7735 - val_accuracy: 0.6535\n",
      "Epoch 81/150\n",
      "26/26 [==============================] - 0s 2ms/step - loss: 0.4724 - accuracy: 0.7588 - val_loss: 0.7770 - val_accuracy: 0.6614\n",
      "Epoch 82/150\n",
      "26/26 [==============================] - 0s 2ms/step - loss: 0.4749 - accuracy: 0.7626 - val_loss: 0.8638 - val_accuracy: 0.6299\n",
      "Epoch 83/150\n",
      "26/26 [==============================] - 0s 2ms/step - loss: 0.4879 - accuracy: 0.7704 - val_loss: 0.7681 - val_accuracy: 0.6614\n",
      "Epoch 84/150\n",
      "26/26 [==============================] - 0s 2ms/step - loss: 0.4692 - accuracy: 0.7510 - val_loss: 0.7726 - val_accuracy: 0.6457\n",
      "Epoch 85/150\n",
      "26/26 [==============================] - 0s 2ms/step - loss: 0.4768 - accuracy: 0.7549 - val_loss: 0.7727 - val_accuracy: 0.6535\n",
      "Epoch 86/150\n",
      "26/26 [==============================] - 0s 2ms/step - loss: 0.4854 - accuracy: 0.7471 - val_loss: 0.7684 - val_accuracy: 0.6535\n",
      "Epoch 87/150\n",
      "26/26 [==============================] - 0s 2ms/step - loss: 0.4721 - accuracy: 0.7821 - val_loss: 0.7694 - val_accuracy: 0.6535\n",
      "Epoch 88/150\n",
      "26/26 [==============================] - 0s 2ms/step - loss: 0.4626 - accuracy: 0.7549 - val_loss: 0.7794 - val_accuracy: 0.6535\n",
      "Epoch 89/150\n",
      "26/26 [==============================] - 0s 2ms/step - loss: 0.4623 - accuracy: 0.7782 - val_loss: 0.7633 - val_accuracy: 0.6535\n",
      "Epoch 90/150\n",
      "26/26 [==============================] - 0s 2ms/step - loss: 0.4698 - accuracy: 0.7665 - val_loss: 0.7634 - val_accuracy: 0.6614\n",
      "Epoch 91/150\n",
      "26/26 [==============================] - 0s 2ms/step - loss: 0.4831 - accuracy: 0.7626 - val_loss: 0.7587 - val_accuracy: 0.6614\n",
      "Epoch 92/150\n",
      "26/26 [==============================] - 0s 2ms/step - loss: 0.4643 - accuracy: 0.7588 - val_loss: 0.7632 - val_accuracy: 0.6457\n",
      "Epoch 93/150\n",
      "26/26 [==============================] - 0s 2ms/step - loss: 0.4965 - accuracy: 0.7510 - val_loss: 0.7585 - val_accuracy: 0.6535\n",
      "Epoch 94/150\n",
      "26/26 [==============================] - 0s 2ms/step - loss: 0.4936 - accuracy: 0.7393 - val_loss: 0.7687 - val_accuracy: 0.6535\n",
      "Epoch 95/150\n",
      "26/26 [==============================] - 0s 2ms/step - loss: 0.4667 - accuracy: 0.7626 - val_loss: 0.7564 - val_accuracy: 0.6535\n",
      "Epoch 96/150\n",
      "26/26 [==============================] - 0s 2ms/step - loss: 0.4675 - accuracy: 0.7704 - val_loss: 0.7839 - val_accuracy: 0.6457\n",
      "Epoch 97/150\n",
      "26/26 [==============================] - 0s 2ms/step - loss: 0.4622 - accuracy: 0.7665 - val_loss: 0.7564 - val_accuracy: 0.6614\n",
      "Epoch 98/150\n",
      "26/26 [==============================] - 0s 2ms/step - loss: 0.4733 - accuracy: 0.7704 - val_loss: 0.7574 - val_accuracy: 0.6614\n",
      "Epoch 99/150\n",
      "26/26 [==============================] - 0s 2ms/step - loss: 0.4616 - accuracy: 0.7860 - val_loss: 0.7625 - val_accuracy: 0.6693\n",
      "Epoch 100/150\n",
      "26/26 [==============================] - 0s 2ms/step - loss: 0.4588 - accuracy: 0.7626 - val_loss: 0.7665 - val_accuracy: 0.6535\n",
      "Epoch 101/150\n",
      "26/26 [==============================] - 0s 2ms/step - loss: 0.4610 - accuracy: 0.7665 - val_loss: 0.7952 - val_accuracy: 0.6850\n",
      "Epoch 102/150\n",
      "26/26 [==============================] - 0s 2ms/step - loss: 0.4584 - accuracy: 0.7704 - val_loss: 0.7563 - val_accuracy: 0.6614\n",
      "Epoch 103/150\n",
      "26/26 [==============================] - 0s 2ms/step - loss: 0.4605 - accuracy: 0.7588 - val_loss: 0.7562 - val_accuracy: 0.6614\n",
      "Epoch 104/150\n",
      "26/26 [==============================] - 0s 2ms/step - loss: 0.4522 - accuracy: 0.7821 - val_loss: 0.7725 - val_accuracy: 0.6535\n",
      "Epoch 105/150\n",
      "26/26 [==============================] - 0s 2ms/step - loss: 0.4512 - accuracy: 0.7821 - val_loss: 0.7578 - val_accuracy: 0.6693\n",
      "Epoch 106/150\n",
      "26/26 [==============================] - 0s 2ms/step - loss: 0.4469 - accuracy: 0.7704 - val_loss: 0.7614 - val_accuracy: 0.6457\n",
      "Epoch 107/150\n",
      "26/26 [==============================] - 0s 2ms/step - loss: 0.4861 - accuracy: 0.7821 - val_loss: 0.7749 - val_accuracy: 0.6535\n",
      "Epoch 108/150\n",
      "26/26 [==============================] - 0s 2ms/step - loss: 0.4636 - accuracy: 0.7665 - val_loss: 0.7581 - val_accuracy: 0.6614\n",
      "Epoch 109/150\n",
      "26/26 [==============================] - 0s 3ms/step - loss: 0.4556 - accuracy: 0.7588 - val_loss: 0.7596 - val_accuracy: 0.6535\n",
      "Epoch 110/150\n",
      "26/26 [==============================] - 0s 2ms/step - loss: 0.4473 - accuracy: 0.7665 - val_loss: 0.7616 - val_accuracy: 0.6614\n",
      "Epoch 111/150\n",
      "26/26 [==============================] - 0s 2ms/step - loss: 0.4531 - accuracy: 0.7588 - val_loss: 0.7616 - val_accuracy: 0.6614\n",
      "Epoch 112/150\n",
      "26/26 [==============================] - 0s 2ms/step - loss: 0.4557 - accuracy: 0.7626 - val_loss: 0.7829 - val_accuracy: 0.6535\n",
      "Epoch 113/150\n",
      "26/26 [==============================] - 0s 3ms/step - loss: 0.4696 - accuracy: 0.7588 - val_loss: 0.7869 - val_accuracy: 0.6378\n",
      "Epoch 114/150\n",
      "26/26 [==============================] - 0s 2ms/step - loss: 0.4568 - accuracy: 0.7665 - val_loss: 0.7590 - val_accuracy: 0.6614\n",
      "Epoch 115/150\n",
      "26/26 [==============================] - 0s 2ms/step - loss: 0.4817 - accuracy: 0.7626 - val_loss: 0.7613 - val_accuracy: 0.6535\n",
      "Epoch 116/150\n",
      "26/26 [==============================] - 0s 2ms/step - loss: 0.4433 - accuracy: 0.7821 - val_loss: 0.8201 - val_accuracy: 0.6850\n",
      "Epoch 117/150\n",
      "26/26 [==============================] - 0s 2ms/step - loss: 0.4586 - accuracy: 0.7626 - val_loss: 0.7546 - val_accuracy: 0.6614\n",
      "Epoch 118/150\n",
      "26/26 [==============================] - 0s 2ms/step - loss: 0.4472 - accuracy: 0.7821 - val_loss: 0.7600 - val_accuracy: 0.6535\n",
      "Epoch 119/150\n",
      "26/26 [==============================] - 0s 2ms/step - loss: 0.4470 - accuracy: 0.7821 - val_loss: 0.7950 - val_accuracy: 0.6693\n",
      "Epoch 120/150\n",
      "26/26 [==============================] - 0s 2ms/step - loss: 0.4863 - accuracy: 0.7588 - val_loss: 0.7911 - val_accuracy: 0.6535\n",
      "Epoch 121/150\n",
      "26/26 [==============================] - 0s 2ms/step - loss: 0.4785 - accuracy: 0.7743 - val_loss: 0.8246 - val_accuracy: 0.6693\n",
      "Epoch 122/150\n",
      "26/26 [==============================] - 0s 2ms/step - loss: 0.4631 - accuracy: 0.7704 - val_loss: 0.7790 - val_accuracy: 0.6535\n",
      "Epoch 123/150\n",
      "26/26 [==============================] - 0s 2ms/step - loss: 0.4748 - accuracy: 0.7704 - val_loss: 0.7690 - val_accuracy: 0.6535\n",
      "Epoch 124/150\n",
      "26/26 [==============================] - 0s 2ms/step - loss: 0.4490 - accuracy: 0.7626 - val_loss: 0.7588 - val_accuracy: 0.6614\n",
      "Epoch 125/150\n",
      "26/26 [==============================] - 0s 2ms/step - loss: 0.4419 - accuracy: 0.7782 - val_loss: 0.7815 - val_accuracy: 0.6457\n",
      "Epoch 126/150\n",
      "26/26 [==============================] - 0s 2ms/step - loss: 0.4439 - accuracy: 0.7860 - val_loss: 0.7543 - val_accuracy: 0.6614\n",
      "Epoch 127/150\n",
      "26/26 [==============================] - 0s 2ms/step - loss: 0.4507 - accuracy: 0.7626 - val_loss: 0.7607 - val_accuracy: 0.6535\n",
      "Epoch 128/150\n",
      "26/26 [==============================] - 0s 2ms/step - loss: 0.4443 - accuracy: 0.7782 - val_loss: 0.7459 - val_accuracy: 0.6693\n",
      "Epoch 129/150\n",
      "26/26 [==============================] - 0s 3ms/step - loss: 0.4441 - accuracy: 0.7704 - val_loss: 0.7595 - val_accuracy: 0.6614\n",
      "Epoch 130/150\n",
      "26/26 [==============================] - 0s 2ms/step - loss: 0.4426 - accuracy: 0.7704 - val_loss: 0.7668 - val_accuracy: 0.6535\n",
      "Epoch 131/150\n",
      "26/26 [==============================] - 0s 2ms/step - loss: 0.4469 - accuracy: 0.7588 - val_loss: 0.7545 - val_accuracy: 0.6535\n",
      "Epoch 132/150\n",
      "26/26 [==============================] - 0s 2ms/step - loss: 0.4564 - accuracy: 0.7665 - val_loss: 0.7739 - val_accuracy: 0.6535\n",
      "Epoch 133/150\n",
      "26/26 [==============================] - 0s 3ms/step - loss: 0.4541 - accuracy: 0.7626 - val_loss: 0.8200 - val_accuracy: 0.7008\n",
      "Epoch 134/150\n",
      "26/26 [==============================] - 0s 2ms/step - loss: 0.4612 - accuracy: 0.7471 - val_loss: 0.8036 - val_accuracy: 0.6457\n",
      "Epoch 135/150\n",
      "26/26 [==============================] - 0s 2ms/step - loss: 0.4532 - accuracy: 0.7704 - val_loss: 0.7560 - val_accuracy: 0.6535\n",
      "Epoch 136/150\n",
      "26/26 [==============================] - 0s 2ms/step - loss: 0.4949 - accuracy: 0.7471 - val_loss: 0.7770 - val_accuracy: 0.7008\n",
      "Epoch 137/150\n",
      "26/26 [==============================] - 0s 2ms/step - loss: 0.4591 - accuracy: 0.7665 - val_loss: 0.7679 - val_accuracy: 0.6535\n",
      "Epoch 138/150\n",
      "26/26 [==============================] - 0s 3ms/step - loss: 0.4350 - accuracy: 0.7821 - val_loss: 0.7659 - val_accuracy: 0.6535\n",
      "Epoch 139/150\n",
      "26/26 [==============================] - 0s 2ms/step - loss: 0.4542 - accuracy: 0.7743 - val_loss: 0.7668 - val_accuracy: 0.6457\n",
      "Epoch 140/150\n",
      "26/26 [==============================] - 0s 3ms/step - loss: 0.4429 - accuracy: 0.7665 - val_loss: 0.7510 - val_accuracy: 0.6614\n",
      "Epoch 141/150\n",
      "26/26 [==============================] - 0s 3ms/step - loss: 0.4410 - accuracy: 0.7821 - val_loss: 0.7575 - val_accuracy: 0.6535\n",
      "Epoch 142/150\n",
      "26/26 [==============================] - 0s 3ms/step - loss: 0.4452 - accuracy: 0.7899 - val_loss: 0.7376 - val_accuracy: 0.6457\n",
      "Epoch 143/150\n",
      "26/26 [==============================] - 0s 4ms/step - loss: 0.4341 - accuracy: 0.7743 - val_loss: 0.8333 - val_accuracy: 0.6850\n",
      "Epoch 144/150\n",
      "26/26 [==============================] - 0s 3ms/step - loss: 0.4502 - accuracy: 0.7510 - val_loss: 0.7471 - val_accuracy: 0.6614\n",
      "Epoch 145/150\n",
      "26/26 [==============================] - 0s 3ms/step - loss: 0.4401 - accuracy: 0.7626 - val_loss: 0.7414 - val_accuracy: 0.6535\n",
      "Epoch 146/150\n",
      "26/26 [==============================] - 0s 4ms/step - loss: 0.4430 - accuracy: 0.7704 - val_loss: 0.7776 - val_accuracy: 0.6535\n",
      "Epoch 147/150\n",
      "26/26 [==============================] - 0s 2ms/step - loss: 0.4438 - accuracy: 0.7471 - val_loss: 0.7666 - val_accuracy: 0.6614\n",
      "Epoch 148/150\n",
      "26/26 [==============================] - 0s 2ms/step - loss: 0.4456 - accuracy: 0.7549 - val_loss: 0.7364 - val_accuracy: 0.6535\n",
      "Epoch 149/150\n",
      "26/26 [==============================] - 0s 2ms/step - loss: 0.4407 - accuracy: 0.7665 - val_loss: 0.7317 - val_accuracy: 0.6772\n",
      "Epoch 150/150\n",
      "26/26 [==============================] - 0s 2ms/step - loss: 0.4310 - accuracy: 0.7860 - val_loss: 0.7513 - val_accuracy: 0.6614\n"
     ]
    }
   ],
   "source": [
    "# Fit the model\n",
    "history = model.fit(X_train, y_train, validation_split=0.33, epochs=150, batch_size=10, verbose=1)"
   ]
  },
  {
   "cell_type": "markdown",
   "metadata": {},
   "source": [
    "Beispielhafte Prädiktionen"
   ]
  },
  {
   "cell_type": "code",
   "execution_count": 6,
   "metadata": {},
   "outputs": [
    {
     "name": "stdout",
     "output_type": "stream",
     "text": [
      "[6.0, 148.0, 72.0, 35.0, 0.0, 33.6, 0.627, 50.0] => 0 (expected 0)\n",
      "[1.0, 85.0, 66.0, 29.0, 0.0, 26.6, 0.351, 31.0] => 0 (expected 1)\n",
      "[8.0, 183.0, 64.0, 0.0, 0.0, 23.3, 0.672, 32.0] => 1 (expected 1)\n",
      "[1.0, 89.0, 66.0, 23.0, 94.0, 28.1, 0.167, 21.0] => 0 (expected 0)\n",
      "[0.0, 137.0, 40.0, 35.0, 168.0, 43.1, 2.288, 33.0] => 1 (expected 0)\n"
     ]
    }
   ],
   "source": [
    "#make class predictions with the model\n",
    "threshold = 0.5   # determines diabetes or not\n",
    "y_pred_class = (model.predict(X_test) > threshold).astype(int)\n",
    "# summarize the first 5 cases\n",
    "for i in range(5):\n",
    "\tprint('%s => %d (expected %d)' % (X[i].tolist(), y_pred_class[i], y_test[i]))"
   ]
  },
  {
   "cell_type": "markdown",
   "metadata": {},
   "source": [
    "Trainingsstatistik anzeigen"
   ]
  },
  {
   "cell_type": "code",
   "execution_count": 7,
   "metadata": {},
   "outputs": [
    {
     "name": "stdout",
     "output_type": "stream",
     "text": [
      "dict_keys(['loss', 'accuracy', 'val_loss', 'val_accuracy'])\n"
     ]
    }
   ],
   "source": [
    "# list all data in history\n",
    "print(history.history.keys())"
   ]
  },
  {
   "cell_type": "code",
   "execution_count": 8,
   "metadata": {},
   "outputs": [
    {
     "data": {
      "image/png": "[encoded data removed]",
      "text/plain": [
       "<Figure size 432x288 with 1 Axes>"
      ]
     },
     "metadata": {
      "needs_background": "light"
     },
     "output_type": "display_data"
    }
   ],
   "source": [
    "# summarize history for accuracy\n",
    "plt.plot(history.history['accuracy'])\n",
    "plt.plot(history.history['val_accuracy'])\n",
    "plt.title('model accuracy')\n",
    "plt.ylabel('accuracy')\n",
    "plt.xlabel('epoch')\n",
    "plt.legend(['train', 'test'], loc='upper left')\n",
    "plt.show()"
   ]
  },
  {
   "cell_type": "code",
   "execution_count": 9,
   "metadata": {},
   "outputs": [
    {
     "data": {
      "image/png": "[encoded data removed]",
      "text/plain": [
       "<Figure size 432x288 with 1 Axes>"
      ]
     },
     "metadata": {
      "needs_background": "light"
     },
     "output_type": "display_data"
    }
   ],
   "source": [
    "# summarize history for loss\n",
    "plt.plot(history.history['loss'])\n",
    "plt.plot(history.history['val_loss'])\n",
    "plt.title('model loss')\n",
    "plt.ylabel('loss')\n",
    "plt.xlabel('epoch')\n",
    "plt.legend(['train', 'test'], loc='upper left')\n",
    "plt.show()"
   ]
  },
  {
   "cell_type": "markdown",
   "metadata": {},
   "source": [
    "### Evaluation"
   ]
  },
  {
   "cell_type": "code",
   "execution_count": 10,
   "metadata": {},
   "outputs": [
    {
     "name": "stdout",
     "output_type": "stream",
     "text": [
      "12/12 [==============================] - 0s 910us/step - loss: 0.6372 - accuracy: 0.6771\n",
      "Accuracy: 67.71\n"
     ]
    }
   ],
   "source": [
    "# evaluate the keras model\n",
    "_, accuracy = model.evaluate(X_test, y_test)\n",
    "print('Accuracy: %.2f' % (accuracy*100))"
   ]
  },
  {
   "cell_type": "markdown",
   "metadata": {},
   "source": [
    "__ROC-Kurve__ "
   ]
  },
  {
   "cell_type": "code",
   "execution_count": 11,
   "metadata": {},
   "outputs": [],
   "source": [
    "from sklearn.metrics import roc_curve\n",
    "from sklearn.metrics import auc"
   ]
  },
  {
   "cell_type": "code",
   "execution_count": 12,
   "metadata": {},
   "outputs": [],
   "source": [
    "y_pred = model.predict(X_test).ravel()\n",
    "fpr, tpr, thresholds_keras = roc_curve(y_test, y_pred)\n",
    "auc_roc = auc(fpr, tpr)"
   ]
  },
  {
   "cell_type": "code",
   "execution_count": 13,
   "metadata": {},
   "outputs": [
    {
     "data": {
      "image/png": "[encoded data removed]",
      "text/plain": [
       "<Figure size 432x288 with 1 Axes>"
      ]
     },
     "metadata": {
      "needs_background": "light"
     },
     "output_type": "display_data"
    }
   ],
   "source": [
    "plt.figure(1)\n",
    "plt.plot([0, 1], [0, 1], 'k--')\n",
    "plt.plot(fpr, tpr, label='Diabetes Klassification (area = {:.3f})'.format(auc_roc))\n",
    "plt.xlabel('False positive rate')\n",
    "plt.ylabel('True positive rate')\n",
    "plt.title('ROC curve')\n",
    "plt.legend(loc='best')\n",
    "plt.show()"
   ]
  },
  {
   "cell_type": "markdown",
   "metadata": {},
   "source": [
    "__Optimaler Schwellwert__ \n",
    "\n",
    "Optimal ist der Punkt auf der ROC-Kurve möglichst weit oben und links, d.h. mit kleinster euklidscher Distanz zur linken, oberen Ecke.\n",
    "\n",
    "$ d(tpr, fpr) = \\sqrt{({tpr_1 - tpr_2})^{2} + {fpr_1 - fpr_2})^{2}} $\n",
    "\n",
    "_Hinweis_: zip nimmt mehrere Iteratoren und verknüpft diese zu Tupeln. 'sorted' sortiert nach erster Komponente der Tupel absteigend (reverse=true).\n"
   ]
  },
  {
   "cell_type": "code",
   "execution_count": 14,
   "metadata": {},
   "outputs": [
    {
     "data": {
      "text/plain": [
       "0.35327077"
      ]
     },
     "execution_count": 14,
     "metadata": {},
     "output_type": "execute_result"
    }
   ],
   "source": [
    "optimal_proba_cutoff = sorted(list(zip(np.abs(tpr - fpr), thresholds_keras)), key=lambda i: i[0], reverse=True)[0][1]\n",
    "optimal_proba_cutoff"
   ]
  },
  {
   "cell_type": "markdown",
   "metadata": {},
   "source": [
    "__Precision-Recall-Kurve__"
   ]
  },
  {
   "cell_type": "code",
   "execution_count": 15,
   "metadata": {},
   "outputs": [
    {
     "name": "stdout",
     "output_type": "stream",
     "text": [
      "Diabetes: 384  Kein Diabetes: 384\n"
     ]
    }
   ],
   "source": [
    "num_0 = len(y_train==0)\n",
    "num_1 = len(y_train==1)\n",
    "print(f'Diabetes: {num_0}  Kein Diabetes: {num_1}')"
   ]
  },
  {
   "cell_type": "code",
   "execution_count": 16,
   "metadata": {},
   "outputs": [],
   "source": [
    "from sklearn.metrics import precision_recall_curve\n",
    "from sklearn.metrics import f1_score"
   ]
  },
  {
   "cell_type": "code",
   "execution_count": 17,
   "metadata": {},
   "outputs": [],
   "source": [
    "# calculate precision and recall for each threshold\n",
    "precision, recall, _ = precision_recall_curve(y_test, y_pred)\n",
    "auc_prc = auc(recall, precision)"
   ]
  },
  {
   "cell_type": "code",
   "execution_count": 18,
   "metadata": {},
   "outputs": [
    {
     "data": {
      "text/plain": [
       "0.5338345864661653"
      ]
     },
     "execution_count": 18,
     "metadata": {},
     "output_type": "execute_result"
    }
   ],
   "source": [
    "# calculate scores\n",
    "f1 = f1_score(y_test, y_pred_class)\n",
    "f1"
   ]
  },
  {
   "cell_type": "code",
   "execution_count": 19,
   "metadata": {},
   "outputs": [
    {
     "data": {
      "image/png": "[encoded data removed]",
      "text/plain": [
       "<Figure size 432x288 with 1 Axes>"
      ]
     },
     "metadata": {
      "needs_background": "light"
     },
     "output_type": "display_data"
    }
   ],
   "source": [
    "plt.plot(recall, precision, marker='.', label='Diabetes Klassifikation (area = {:.3f})'.format(auc_prc))\n",
    "# axis labels\n",
    "plt.xlabel('Recall')\n",
    "plt.ylabel('Precision')\n",
    "# show the legend\n",
    "plt.legend()\n",
    "# show the plot\n",
    "plt.show()"
   ]
  }
 ],
 "metadata": {
  "kernelspec": {
   "display_name": "Python 3.9.12 ('tensorflow')",
   "language": "python",
   "name": "python3"
  },
  "language_info": {
   "codemirror_mode": {
    "name": "ipython",
    "version": 3
   },
   "file_extension": ".py",
   "mimetype": "text/x-python",
   "name": "python",
   "nbconvert_exporter": "python",
   "pygments_lexer": "ipython3",
   "version": "3.9.12"
  },
  "orig_nbformat": 4,
  "vscode": {
   "interpreter": {
    "hash": "30d453d1063587679cb9ea756948dfdffb15ba9c7658ece4abaa6ce81067b233"
   }
  }
 },
 "nbformat": 4,
 "nbformat_minor": 2
}
