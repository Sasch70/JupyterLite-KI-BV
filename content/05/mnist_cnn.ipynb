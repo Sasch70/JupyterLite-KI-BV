{
 "cells": [
  {
   "cell_type": "markdown",
   "metadata": {},
   "source": [
    "# MNIST Keras Beispiel\n",
    "\n",
    "Erstellt am 15.8.2022\n",
    "\n",
    "@author: stefan.kray, sascha.seifert"
   ]
  },
  {
   "cell_type": "code",
   "execution_count": 1,
   "metadata": {},
   "outputs": [
    {
     "ename": "ImportError",
     "evalue": "cannot import name 'keras' from 'tensorflow' (unknown location)",
     "output_type": "error",
     "traceback": [
      "\u001b[1;31m---------------------------------------------------------------------------\u001b[0m",
      "\u001b[1;31mImportError\u001b[0m                               Traceback (most recent call last)",
      "\u001b[1;32mc:\\Home\\Aktuell\\3_KI\\Codes\\05\\mnist_cnn.ipynb Cell 2\u001b[0m in \u001b[0;36m<cell line: 2>\u001b[1;34m()\u001b[0m\n\u001b[0;32m      <a href='vscode-notebook-cell:/c%3A/Home/Aktuell/3_KI/Codes/05/mnist_cnn.ipynb#W1sZmlsZQ%3D%3D?line=0'>1</a>\u001b[0m \u001b[39mimport\u001b[39;00m \u001b[39mtensorflow\u001b[39;00m \u001b[39mas\u001b[39;00m \u001b[39mtf\u001b[39;00m\n\u001b[1;32m----> <a href='vscode-notebook-cell:/c%3A/Home/Aktuell/3_KI/Codes/05/mnist_cnn.ipynb#W1sZmlsZQ%3D%3D?line=1'>2</a>\u001b[0m \u001b[39mfrom\u001b[39;00m \u001b[39mtensorflow\u001b[39;00m \u001b[39mimport\u001b[39;00m keras\n\u001b[0;32m      <a href='vscode-notebook-cell:/c%3A/Home/Aktuell/3_KI/Codes/05/mnist_cnn.ipynb#W1sZmlsZQ%3D%3D?line=2'>3</a>\u001b[0m \u001b[39mfrom\u001b[39;00m \u001b[39mtensorflow\u001b[39;00m\u001b[39m.\u001b[39;00m\u001b[39mkeras\u001b[39;00m \u001b[39mimport\u001b[39;00m layers\n\u001b[0;32m      <a href='vscode-notebook-cell:/c%3A/Home/Aktuell/3_KI/Codes/05/mnist_cnn.ipynb#W1sZmlsZQ%3D%3D?line=3'>4</a>\u001b[0m \u001b[39mimport\u001b[39;00m \u001b[39mtensorflow_datasets\u001b[39;00m \u001b[39mas\u001b[39;00m \u001b[39mtfds\u001b[39;00m\n",
      "\u001b[1;31mImportError\u001b[0m: cannot import name 'keras' from 'tensorflow' (unknown location)"
     ]
    }
   ],
   "source": [
    "import tensorflow as tf\n",
    "from tensorflow import keras\n",
    "from tensorflow.keras import layers\n",
    "import tensorflow_datasets as tfds\n",
    "import matplotlib.pyplot as plt\n",
    "import numpy as np\n",
    "import datetime"
   ]
  },
  {
   "cell_type": "markdown",
   "metadata": {},
   "source": [
    "### MNIST Daten laden"
   ]
  },
  {
   "cell_type": "code",
   "execution_count": null,
   "metadata": {},
   "outputs": [],
   "source": [
    "(ds_validate,ds_test,ds_train), ds_info = tfds.load(\n",
    "    'mnist',\n",
    "    split=['train[:10%]','train[10%:20%]','train[20%:]'],\n",
    "    shuffle_files=True,\n",
    "    as_supervised=True,\n",
    "    with_info=True,\n",
    "    data_dir=\"tensorflow_datasets\"\n",
    ")"
   ]
  },
  {
   "cell_type": "markdown",
   "metadata": {},
   "source": [
    "### Daten vorbereiten"
   ]
  },
  {
   "cell_type": "code",
   "execution_count": null,
   "metadata": {},
   "outputs": [],
   "source": [
    "batch_size=128\n",
    "\n",
    "# Konvertierung von uint8 Bild nach float32 Daten\n",
    "def normalize_img(image, label):\n",
    "  \"\"\"Normalizes images: `uint8` -> `float32`.\"\"\"\n",
    "  return tf.cast(image, tf.float32) / 255., label\n",
    "\n",
    "# Aufruf für alle Pixel\n",
    "ds_train = ds_train.map(\n",
    "    normalize_img, num_parallel_calls=tf.data.AUTOTUNE)\n",
    "\n",
    "# Daten in Memory laden\n",
    "ds_train = ds_train.cache()\n",
    "# Daten shufflen in Memory \n",
    "ds_train = ds_train.shuffle(ds_info.splits['train'].num_examples)\n",
    "\n",
    "# Batches herstellen mit jeweils 128 Bildern\n",
    "ds_train = ds_train.batch(batch_size)\n",
    "# Vorhalten von Daten für bessere Performanz, Autotune=dynamischer Puffer\n",
    "ds_train = ds_train.prefetch(tf.data.AUTOTUNE)"
   ]
  },
  {
   "cell_type": "code",
   "execution_count": null,
   "metadata": {},
   "outputs": [],
   "source": [
    "# Normalisierung des validate Datensatzes\n",
    "ds_validate = ds_validate.map(\n",
    "    normalize_img, num_parallel_calls=tf.data.AUTOTUNE)\n",
    "ds_validate = ds_validate.batch(batch_size)\n",
    "ds_validate = ds_validate.cache()\n",
    "ds_validate = ds_validate.prefetch(tf.data.AUTOTUNE)\n",
    "\n",
    "# Normalisierung des test Datensatzes\n",
    "ds_test = ds_test.map(\n",
    "    normalize_img, num_parallel_calls=tf.data.AUTOTUNE)\n",
    "ds_test = ds_test.batch(batch_size)\n",
    "ds_test = ds_test.cache()\n",
    "ds_test = ds_test.prefetch(tf.data.AUTOTUNE)"
   ]
  },
  {
   "cell_type": "markdown",
   "metadata": {},
   "source": [
    "### Trainingsdaten anzeigen"
   ]
  },
  {
   "cell_type": "code",
   "execution_count": null,
   "metadata": {},
   "outputs": [
    {
     "name": "stdout",
     "output_type": "stream",
     "text": [
      "label: 4\n",
      "2\n",
      "<bound method DatasetV2.batch of <PrefetchDataset shapes: ((None, 28, 28, 1), (None,)), types: (tf.float32, tf.int64)>>\n"
     ]
    },
    {
     "data": {
      "image/png": "[encoded data removed]",
      "text/plain": [
       "<Figure size 432x288 with 1 Axes>"
      ]
     },
     "metadata": {
      "needs_background": "light"
     },
     "output_type": "display_data"
    }
   ],
   "source": [
    "l=list(ds_train.as_numpy_iterator())\n",
    "# l: 469 batches x 2 Einträge (0: Bild, 1: Label) x 128 (batch size)\n",
    "plt.imshow(l[0][0][5])\n",
    "print(\"label:\",l[0][1][5])\n",
    "print(l[2][1][5])\n",
    "print(ds_train.batch)"
   ]
  },
  {
   "cell_type": "markdown",
   "metadata": {},
   "source": [
    "### Modell erstellen und trainieren"
   ]
  },
  {
   "cell_type": "code",
   "execution_count": null,
   "metadata": {},
   "outputs": [
    {
     "data": {
      "text/plain": [
       "(28, 28, 1)"
      ]
     },
     "execution_count": 6,
     "metadata": {},
     "output_type": "execute_result"
    }
   ],
   "source": [
    "input_shape = ds_info.features['image'].shape\n",
    "input_shape"
   ]
  },
  {
   "cell_type": "code",
   "execution_count": null,
   "metadata": {},
   "outputs": [
    {
     "name": "stdout",
     "output_type": "stream",
     "text": [
      "Model: \"sequential\"\n",
      "_________________________________________________________________\n",
      "Layer (type)                 Output Shape              Param #   \n",
      "=================================================================\n",
      "conv2d (Conv2D)              (None, 26, 26, 32)        320       \n",
      "_________________________________________________________________\n",
      "max_pooling2d (MaxPooling2D) (None, 13, 13, 32)        0         \n",
      "_________________________________________________________________\n",
      "conv2d_1 (Conv2D)            (None, 11, 11, 64)        18496     \n",
      "_________________________________________________________________\n",
      "max_pooling2d_1 (MaxPooling2 (None, 5, 5, 64)          0         \n",
      "_________________________________________________________________\n",
      "dropout (Dropout)            (None, 5, 5, 64)          0         \n",
      "_________________________________________________________________\n",
      "flatten (Flatten)            (None, 1600)              0         \n",
      "_________________________________________________________________\n",
      "dense (Dense)                (None, 128)               204928    \n",
      "_________________________________________________________________\n",
      "dropout_1 (Dropout)          (None, 128)               0         \n",
      "_________________________________________________________________\n",
      "dense_1 (Dense)              (None, 10)                1290      \n",
      "=================================================================\n",
      "Total params: 225,034\n",
      "Trainable params: 225,034\n",
      "Non-trainable params: 0\n",
      "_________________________________________________________________\n"
     ]
    }
   ],
   "source": [
    "model = keras.Sequential(\n",
    "    [\n",
    "        layers.InputLayer(input_shape), # notwendig für summary()\n",
    "        layers.Conv2D(32, kernel_size=(3, 3), activation=\"relu\"),\n",
    "        layers.MaxPooling2D(pool_size=(2, 2)),\n",
    "        layers.Conv2D(64, kernel_size=(3, 3), activation=\"relu\"),\n",
    "        layers.MaxPooling2D(pool_size=(2, 2)),\n",
    "        layers.Dropout(0.05),\n",
    "        layers.Flatten(),\n",
    "        layers.Dense(128, activation=\"relu\"),\n",
    "        layers.Dropout(0.05),\n",
    "        layers.Dense(10, activation=\"softmax\"),\n",
    "    ]\n",
    ")\n",
    "model.summary()\n"
   ]
  },
  {
   "cell_type": "code",
   "execution_count": null,
   "metadata": {},
   "outputs": [
    {
     "name": "stdout",
     "output_type": "stream",
     "text": [
      "Epoch 1/24\n",
      "375/375 [==============================] - 7s 17ms/step - loss: 0.2642 - sparse_categorical_accuracy: 0.9167 - val_loss: 0.0766 - val_sparse_categorical_accuracy: 0.9777\n",
      "Epoch 2/24\n",
      "375/375 [==============================] - 6s 16ms/step - loss: 0.0678 - sparse_categorical_accuracy: 0.9788 - val_loss: 0.0580 - val_sparse_categorical_accuracy: 0.9833\n",
      "Epoch 3/24\n",
      "375/375 [==============================] - 6s 16ms/step - loss: 0.0463 - sparse_categorical_accuracy: 0.9859 - val_loss: 0.0565 - val_sparse_categorical_accuracy: 0.9818\n",
      "Epoch 4/24\n",
      "375/375 [==============================] - 6s 16ms/step - loss: 0.0353 - sparse_categorical_accuracy: 0.9891 - val_loss: 0.0510 - val_sparse_categorical_accuracy: 0.9845\n",
      "Epoch 5/24\n",
      "375/375 [==============================] - 6s 16ms/step - loss: 0.0283 - sparse_categorical_accuracy: 0.9914 - val_loss: 0.0413 - val_sparse_categorical_accuracy: 0.9885\n",
      "Epoch 6/24\n",
      "375/375 [==============================] - 6s 16ms/step - loss: 0.0241 - sparse_categorical_accuracy: 0.9926 - val_loss: 0.0429 - val_sparse_categorical_accuracy: 0.9872\n",
      "Epoch 7/24\n",
      "375/375 [==============================] - 6s 17ms/step - loss: 0.0187 - sparse_categorical_accuracy: 0.9939 - val_loss: 0.0471 - val_sparse_categorical_accuracy: 0.9858\n",
      "Epoch 8/24\n",
      "375/375 [==============================] - 6s 16ms/step - loss: 0.0153 - sparse_categorical_accuracy: 0.9954 - val_loss: 0.0429 - val_sparse_categorical_accuracy: 0.9892\n",
      "Epoch 9/24\n",
      "375/375 [==============================] - 6s 16ms/step - loss: 0.0135 - sparse_categorical_accuracy: 0.9958 - val_loss: 0.0417 - val_sparse_categorical_accuracy: 0.9887\n",
      "Epoch 10/24\n",
      "375/375 [==============================] - 6s 16ms/step - loss: 0.0115 - sparse_categorical_accuracy: 0.9963 - val_loss: 0.0459 - val_sparse_categorical_accuracy: 0.9870\n",
      "Epoch 11/24\n",
      "375/375 [==============================] - 6s 16ms/step - loss: 0.0098 - sparse_categorical_accuracy: 0.9967 - val_loss: 0.0417 - val_sparse_categorical_accuracy: 0.9888\n",
      "Epoch 12/24\n",
      "375/375 [==============================] - 6s 16ms/step - loss: 0.0085 - sparse_categorical_accuracy: 0.9971 - val_loss: 0.0467 - val_sparse_categorical_accuracy: 0.9885\n",
      "Epoch 13/24\n",
      "375/375 [==============================] - 6s 17ms/step - loss: 0.0069 - sparse_categorical_accuracy: 0.9978 - val_loss: 0.0433 - val_sparse_categorical_accuracy: 0.9888\n",
      "Epoch 14/24\n",
      "375/375 [==============================] - 6s 17ms/step - loss: 0.0061 - sparse_categorical_accuracy: 0.9982 - val_loss: 0.0478 - val_sparse_categorical_accuracy: 0.9878\n",
      "Epoch 15/24\n",
      "375/375 [==============================] - 6s 16ms/step - loss: 0.0056 - sparse_categorical_accuracy: 0.9981 - val_loss: 0.0447 - val_sparse_categorical_accuracy: 0.9898\n",
      "Epoch 16/24\n",
      "375/375 [==============================] - 6s 17ms/step - loss: 0.0047 - sparse_categorical_accuracy: 0.9984 - val_loss: 0.0465 - val_sparse_categorical_accuracy: 0.9887\n",
      "Epoch 17/24\n",
      "375/375 [==============================] - 6s 17ms/step - loss: 0.0044 - sparse_categorical_accuracy: 0.9986 - val_loss: 0.0496 - val_sparse_categorical_accuracy: 0.9893\n",
      "Epoch 18/24\n",
      "375/375 [==============================] - 6s 17ms/step - loss: 0.0032 - sparse_categorical_accuracy: 0.9991 - val_loss: 0.0489 - val_sparse_categorical_accuracy: 0.9895\n",
      "Epoch 19/24\n",
      "375/375 [==============================] - 6s 17ms/step - loss: 0.0034 - sparse_categorical_accuracy: 0.9989 - val_loss: 0.0456 - val_sparse_categorical_accuracy: 0.9890\n",
      "Epoch 20/24\n",
      "375/375 [==============================] - 6s 17ms/step - loss: 0.0029 - sparse_categorical_accuracy: 0.9991 - val_loss: 0.0462 - val_sparse_categorical_accuracy: 0.9902\n",
      "Epoch 21/24\n",
      "375/375 [==============================] - 7s 17ms/step - loss: 0.0026 - sparse_categorical_accuracy: 0.9991 - val_loss: 0.0493 - val_sparse_categorical_accuracy: 0.9902\n",
      "Epoch 22/24\n",
      "375/375 [==============================] - 7s 17ms/step - loss: 0.0020 - sparse_categorical_accuracy: 0.9994 - val_loss: 0.0518 - val_sparse_categorical_accuracy: 0.9900\n",
      "Epoch 23/24\n",
      "375/375 [==============================] - 6s 17ms/step - loss: 0.0023 - sparse_categorical_accuracy: 0.9992 - val_loss: 0.0501 - val_sparse_categorical_accuracy: 0.9903\n",
      "Epoch 24/24\n",
      "375/375 [==============================] - 6s 17ms/step - loss: 0.0021 - sparse_categorical_accuracy: 0.9994 - val_loss: 0.0531 - val_sparse_categorical_accuracy: 0.9890\n"
     ]
    }
   ],
   "source": [
    "# model kompilieren und Training starten\n",
    "from gc import callbacks\n",
    "\n",
    "max_epochs=24\n",
    "\n",
    "if model: # auf None prüfen\n",
    "    model.compile(\n",
    "        #optimizer=keras.optimizers.Adam(0.005),\n",
    "        optimizer=keras.optimizers.Adadelta(1.0),\n",
    "        loss=keras.losses.SparseCategoricalCrossentropy(from_logits=False),\n",
    "        metrics=[keras.metrics.SparseCategoricalAccuracy()],\n",
    "    )\n",
    "\n",
    "    # Callbacks für TensorBoard-Aufzeichnung\n",
    "    log_dir = \"./logs/fit/mnist_\" + datetime.datetime.now().strftime(\"%Y%m%d-%H%M%S\")\n",
    "    tensorboard_callback = keras.callbacks.TensorBoard(log_dir=log_dir, histogram_freq=1)\n",
    "\n",
    "    model.fit(\n",
    "        ds_train,\n",
    "        epochs=max_epochs,\n",
    "        validation_data=ds_validate,\n",
    "        callbacks=[tensorboard_callback]\n",
    "    )\n",
    "\n"
   ]
  },
  {
   "cell_type": "code",
   "execution_count": null,
   "metadata": {},
   "outputs": [],
   "source": [
    "# Gesamte Modell speichern\n",
    "model.save(\"mnist_cnn.h5\")    "
   ]
  },
  {
   "cell_type": "markdown",
   "metadata": {},
   "source": [
    "### Ergebnisse analysieren"
   ]
  },
  {
   "cell_type": "code",
   "execution_count": null,
   "metadata": {},
   "outputs": [
    {
     "name": "stdout",
     "output_type": "stream",
     "text": [
      "dict_keys(['loss', 'sparse_categorical_accuracy', 'val_loss', 'val_sparse_categorical_accuracy'])\n"
     ]
    }
   ],
   "source": [
    "# list all data in history\n",
    "print(model.history.history.keys())"
   ]
  },
  {
   "cell_type": "code",
   "execution_count": null,
   "metadata": {},
   "outputs": [
    {
     "data": {
      "image/png": "[encoded data removed]",
      "text/plain": [
       "<Figure size 432x288 with 1 Axes>"
      ]
     },
     "metadata": {
      "needs_background": "light"
     },
     "output_type": "display_data"
    },
    {
     "data": {
      "image/png": "[encoded data removed]",
      "text/plain": [
       "<Figure size 432x288 with 1 Axes>"
      ]
     },
     "metadata": {
      "needs_background": "light"
     },
     "output_type": "display_data"
    }
   ],
   "source": [
    "# summarize history for accuracy\n",
    "plt.plot(model.history.history['sparse_categorical_accuracy'])\n",
    "plt.plot(model.history.history['val_sparse_categorical_accuracy'])\n",
    "plt.title('model accuracy')\n",
    "plt.ylabel('accuracy')\n",
    "plt.xlabel('epoch')\n",
    "plt.legend(['Train', 'Validation'], loc='upper left')\n",
    "plt.show()\n",
    "# summarize history for loss\n",
    "plt.plot(model.history.history['loss'])\n",
    "plt.plot(model.history.history['val_loss'])\n",
    "plt.title('model loss')\n",
    "plt.ylabel('loss')\n",
    "plt.xlabel('epoch')\n",
    "plt.legend(['Train', 'Validation'], loc='upper left')\n",
    "plt.show()\n"
   ]
  },
  {
   "cell_type": "markdown",
   "metadata": {},
   "source": [
    "### Modell testen"
   ]
  },
  {
   "cell_type": "code",
   "execution_count": null,
   "metadata": {},
   "outputs": [
    {
     "name": "stdout",
     "output_type": "stream",
     "text": [
      "47/47 [==============================] - 0s 8ms/step - loss: 0.0537 - sparse_categorical_accuracy: 0.9903\n",
      "final loss and accuracy on test set: [0.05366659536957741, 0.9903333187103271]\n"
     ]
    }
   ],
   "source": [
    "print(\"final loss and accuracy on test set:\",model.evaluate(ds_test))"
   ]
  },
  {
   "cell_type": "markdown",
   "metadata": {},
   "source": [
    "### TensorBoard\n",
    "Alternativ kann man auch das TensorBoard benutzen, um tiefere Einblicke in das Training zu bekommen. Voraussetzung ist, dass ein Callback bei fit() mitgegeben wird."
   ]
  },
  {
   "cell_type": "code",
   "execution_count": null,
   "metadata": {},
   "outputs": [
    {
     "data": {
      "text/html": [
       "\n",
       "      <iframe id=\"tensorboard-frame-284df159f74f48af\" width=\"100%\" height=\"800\" frameborder=\"0\">\n",
       "      </iframe>\n",
       "      <script>\n",
       "        (function() {\n",
       "          const frame = document.getElementById(\"tensorboard-frame-284df159f74f48af\");\n",
       "          const url = new URL(\"/\", window.location);\n",
       "          const port = 6006;\n",
       "          if (port) {\n",
       "            url.port = port;\n",
       "          }\n",
       "          frame.src = url;\n",
       "        })();\n",
       "      </script>\n",
       "    "
      ],
      "text/plain": [
       "<IPython.core.display.HTML object>"
      ]
     },
     "metadata": {},
     "output_type": "display_data"
    }
   ],
   "source": [
    "# Load the TensorBoard notebook extension\n",
    "%load_ext tensorboard\n",
    "%tensorboard --logdir './logs/fit'\n",
    "\n"
   ]
  },
  {
   "cell_type": "markdown",
   "metadata": {},
   "source": [
    "### Feature Maps visualisieren"
   ]
  },
  {
   "cell_type": "code",
   "execution_count": null,
   "metadata": {},
   "outputs": [
    {
     "data": {
      "text/plain": [
       "(1, 26, 26, 32)"
      ]
     },
     "execution_count": 14,
     "metadata": {},
     "output_type": "execute_result"
    }
   ],
   "source": [
    "model2=keras.Model(inputs=model.inputs,outputs=model.layers[0].output)\n",
    "feature_map=model2.predict(l[0][0][5:6]) #(1,26,26,32)\n",
    "feature_map.shape"
   ]
  },
  {
   "cell_type": "code",
   "execution_count": null,
   "metadata": {},
   "outputs": [
    {
     "data": {
      "image/png": "[encoded data removed]",
      "text/plain": [
       "<Figure size 432x288 with 32 Axes>"
      ]
     },
     "metadata": {},
     "output_type": "display_data"
    }
   ],
   "source": [
    "# plot all 32 maps \n",
    "ix = 1\n",
    "for _ in range(8):\n",
    "    for _ in range(4):\n",
    "        # specify subplot and turn of axis\n",
    "        ax = plt.subplot(4, 8, ix)\n",
    "        ax.set_xticks([])\n",
    "        ax.set_yticks([])\n",
    "        # plot filter channel in grayscale\n",
    "        ax.imshow(feature_map[0, :, :, ix-1])\n",
    "        ix += 1\n",
    "# show the figure\n",
    "plt.show()"
   ]
  },
  {
   "cell_type": "markdown",
   "metadata": {},
   "source": [
    "Alle Gewichte der 32 Filter des ersten Conv-Layers visualisieren. Nach Faltung mit diesen Filtern erhält man obige Feature-Maps."
   ]
  },
  {
   "cell_type": "code",
   "execution_count": null,
   "metadata": {},
   "outputs": [
    {
     "data": {
      "image/png": "[encoded data removed]",
      "text/plain": [
       "<Figure size 432x288 with 32 Axes>"
      ]
     },
     "metadata": {},
     "output_type": "display_data"
    }
   ],
   "source": [
    "w=model.layers[0].get_weights()\n",
    "\n",
    "# plot all 32 maps of weights\n",
    "ix = 1\n",
    "for _ in range(8):\n",
    "    for _ in range(4):\n",
    "        # specify subplot and turn of axis\n",
    "        ax = plt.subplot(4, 8, ix)\n",
    "        ax.set_xticks([])\n",
    "        ax.set_yticks([])\n",
    "        # plot filter channel in grayscale\n",
    "        ax.imshow(w[0][:, :, :, ix-1])\n",
    "        ix += 1\n",
    "# show the figure\n",
    "plt.show()"
   ]
  }
 ],
 "metadata": {
  "kernelspec": {
   "display_name": "Python 3 (ipykernel)",
   "language": "python",
   "name": "python3"
  },
  "language_info": {
   "codemirror_mode": {
    "name": "ipython",
    "version": 3
   },
   "file_extension": ".py",
   "mimetype": "text/x-python",
   "name": "python",
   "nbconvert_exporter": "python",
   "pygments_lexer": "ipython3",
   "version": "3.9.12"
  },
  "vscode": {
   "interpreter": {
    "hash": "30d453d1063587679cb9ea756948dfdffb15ba9c7658ece4abaa6ce81067b233"
   }
  }
 },
 "nbformat": 4,
 "nbformat_minor": 2
}
